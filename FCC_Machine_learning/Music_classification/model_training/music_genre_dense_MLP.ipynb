{
 "cells": [
  {
   "cell_type": "code",
   "execution_count": 1,
   "metadata": {},
   "outputs": [],
   "source": [
    "import json\n",
    "import numpy as np\n",
    "from scipy.ndimage.measurements import label\n",
    "from sklearn.model_selection import train_test_split\n",
    "import tensorflow.keras as keras\n",
    "import matplotlib.pyplot as plt\n",
    "import librosa, librosa.display\n",
    "import math\n",
    "import operator\n",
    "import tensorflow as tf"
   ]
  },
  {
   "cell_type": "code",
   "execution_count": 2,
   "metadata": {},
   "outputs": [],
   "source": [
    "DATASET_PATH = \"../music_data/data.json\""
   ]
  },
  {
   "cell_type": "code",
   "execution_count": 3,
   "metadata": {},
   "outputs": [],
   "source": [
    "# load data\n",
    "with open(DATASET_PATH, \"r\") as fp:\n",
    "    data = json.load(fp)\n",
    "\n",
    "    # convert lists to numpy arrays\n",
    "    inputs = np.array(data[\"mfcc\"])\n",
    "    labels = np.array(data[\"labels\"])\n",
    "    genres = data[\"mapping\"]"
   ]
  },
  {
   "cell_type": "code",
   "execution_count": 4,
   "metadata": {},
   "outputs": [],
   "source": [
    "# split the data into training and test sets\n",
    "inputs_train, inputs_test, labels_train, labels_test = train_test_split(inputs, labels, test_size=0.3)"
   ]
  },
  {
   "cell_type": "code",
   "execution_count": 5,
   "metadata": {},
   "outputs": [],
   "source": [
    "# build the network architecture\n",
    "model = keras.Sequential([\n",
    "    # input layer\n",
    "    keras.layers.Flatten(input_shape=(inputs.shape[1], inputs.shape[2])),\n",
    "\n",
    "    # 1st hidden layer\n",
    "    keras.layers.Dense(512, activation=\"relu\", kernel_regularizer=keras.regularizers.l2(0.001)),\n",
    "    keras.layers.Dropout(0.3),\n",
    "\n",
    "    # 2nd hidden layer\n",
    "    keras.layers.Dense(256, activation=\"relu\", kernel_regularizer=keras.regularizers.l2(0.001)),\n",
    "    keras.layers.Dropout(0.3),\n",
    "\n",
    "    # 3rd hidden layer\n",
    "    keras.layers.Dense(64, activation=\"relu\", kernel_regularizer=keras.regularizers.l2(0.001)),\n",
    "    keras.layers.Dropout(0.3),\n",
    "\n",
    "    # output layer\n",
    "    keras.layers.Dense(10, activation=\"softmax\")\n",
    "])"
   ]
  },
  {
   "cell_type": "code",
   "execution_count": 6,
   "metadata": {},
   "outputs": [
    {
     "name": "stdout",
     "output_type": "stream",
     "text": [
      "Model: \"sequential\"\n",
      "_________________________________________________________________\n",
      "Layer (type)                 Output Shape              Param #   \n",
      "=================================================================\n",
      "flatten (Flatten)            (None, 1690)              0         \n",
      "_________________________________________________________________\n",
      "dense (Dense)                (None, 512)               865792    \n",
      "_________________________________________________________________\n",
      "dropout (Dropout)            (None, 512)               0         \n",
      "_________________________________________________________________\n",
      "dense_1 (Dense)              (None, 256)               131328    \n",
      "_________________________________________________________________\n",
      "dropout_1 (Dropout)          (None, 256)               0         \n",
      "_________________________________________________________________\n",
      "dense_2 (Dense)              (None, 64)                16448     \n",
      "_________________________________________________________________\n",
      "dropout_2 (Dropout)          (None, 64)                0         \n",
      "_________________________________________________________________\n",
      "dense_3 (Dense)              (None, 10)                650       \n",
      "=================================================================\n",
      "Total params: 1,014,218\n",
      "Trainable params: 1,014,218\n",
      "Non-trainable params: 0\n",
      "_________________________________________________________________\n"
     ]
    }
   ],
   "source": [
    "# compile network\n",
    "optimizer = keras.optimizers.Adam(learning_rate=0.0001)\n",
    "model.compile(optimizer=optimizer, loss=\"sparse_categorical_crossentropy\", metrics=[\"accuracy\"])\n",
    "\n",
    "model.summary()"
   ]
  },
  {
   "cell_type": "code",
   "execution_count": 8,
   "metadata": {},
   "outputs": [],
   "source": [
    "# save trained model\n",
    "checkpoint_path = \"../extra_training/dense_test.ckpt\"\n",
    "checkpoint_dir = os.path.dirname(checkpoint_path)\n",
    "\n",
    "# Create a callback that saves the model's weights\n",
    "cp_callback = tf.keras.callbacks.ModelCheckpoint(filepath=checkpoint_path,\n",
    "                                                 save_weights_only=True,\n",
    "                                                 verbose=1)"
   ]
  },
  {
   "cell_type": "code",
   "execution_count": 11,
   "metadata": {},
   "outputs": [
    {
     "name": "stdout",
     "output_type": "stream",
     "text": [
      "Epoch 1/20\n",
      "175/175 [==============================] - 1s 7ms/step - loss: 2.3984 - accuracy: 0.4678 - val_loss: 2.4376 - val_accuracy: 0.4707\n",
      "\n",
      "Epoch 00001: saving model to ../extra_training\\dense_test.ckpt\n",
      "Epoch 2/20\n",
      "175/175 [==============================] - 1s 8ms/step - loss: 2.3571 - accuracy: 0.4742 - val_loss: 2.4489 - val_accuracy: 0.4671\n",
      "\n",
      "Epoch 00002: saving model to ../extra_training\\dense_test.ckpt\n",
      "Epoch 3/20\n",
      "175/175 [==============================] - 1s 8ms/step - loss: 2.3176 - accuracy: 0.4858 - val_loss: 2.3792 - val_accuracy: 0.4836\n",
      "\n",
      "Epoch 00003: saving model to ../extra_training\\dense_test.ckpt\n",
      "Epoch 4/20\n",
      "175/175 [==============================] - 1s 8ms/step - loss: 2.3146 - accuracy: 0.4876 - val_loss: 2.3998 - val_accuracy: 0.4857\n",
      "\n",
      "Epoch 00004: saving model to ../extra_training\\dense_test.ckpt\n",
      "Epoch 5/20\n",
      "175/175 [==============================] - 1s 7ms/step - loss: 2.2638 - accuracy: 0.4990 - val_loss: 2.3522 - val_accuracy: 0.4686\n",
      "\n",
      "Epoch 00005: saving model to ../extra_training\\dense_test.ckpt\n",
      "Epoch 6/20\n",
      "175/175 [==============================] - 1s 8ms/step - loss: 2.2447 - accuracy: 0.4999 - val_loss: 2.3863 - val_accuracy: 0.4593\n",
      "\n",
      "Epoch 00006: saving model to ../extra_training\\dense_test.ckpt\n",
      "Epoch 7/20\n",
      "175/175 [==============================] - 2s 9ms/step - loss: 2.2033 - accuracy: 0.5024 - val_loss: 2.3226 - val_accuracy: 0.4807\n",
      "\n",
      "Epoch 00007: saving model to ../extra_training\\dense_test.ckpt\n",
      "Epoch 8/20\n",
      "175/175 [==============================] - 2s 9ms/step - loss: 2.1557 - accuracy: 0.5176 - val_loss: 2.3188 - val_accuracy: 0.4714\n",
      "\n",
      "Epoch 00008: saving model to ../extra_training\\dense_test.ckpt\n",
      "Epoch 9/20\n",
      "175/175 [==============================] - 1s 9ms/step - loss: 2.1391 - accuracy: 0.5221 - val_loss: 2.3426 - val_accuracy: 0.4743\n",
      "\n",
      "Epoch 00009: saving model to ../extra_training\\dense_test.ckpt\n",
      "Epoch 10/20\n",
      "175/175 [==============================] - 1s 8ms/step - loss: 2.1252 - accuracy: 0.5253 - val_loss: 2.2823 - val_accuracy: 0.4821\n",
      "\n",
      "Epoch 00010: saving model to ../extra_training\\dense_test.ckpt\n",
      "Epoch 11/20\n",
      "175/175 [==============================] - 1s 9ms/step - loss: 2.0652 - accuracy: 0.5371 - val_loss: 2.2577 - val_accuracy: 0.4993\n",
      "\n",
      "Epoch 00011: saving model to ../extra_training\\dense_test.ckpt\n",
      "Epoch 12/20\n",
      "175/175 [==============================] - 1s 8ms/step - loss: 2.0361 - accuracy: 0.5415 - val_loss: 2.2774 - val_accuracy: 0.4821\n",
      "\n",
      "Epoch 00012: saving model to ../extra_training\\dense_test.ckpt\n",
      "Epoch 13/20\n",
      "175/175 [==============================] - 1s 9ms/step - loss: 2.0498 - accuracy: 0.5353 - val_loss: 2.2612 - val_accuracy: 0.5029\n",
      "\n",
      "Epoch 00013: saving model to ../extra_training\\dense_test.ckpt\n",
      "Epoch 14/20\n",
      "175/175 [==============================] - 2s 9ms/step - loss: 1.9908 - accuracy: 0.5440 - val_loss: 2.2000 - val_accuracy: 0.5029\n",
      "\n",
      "Epoch 00014: saving model to ../extra_training\\dense_test.ckpt\n",
      "Epoch 15/20\n",
      "175/175 [==============================] - 1s 8ms/step - loss: 1.9783 - accuracy: 0.5567 - val_loss: 2.2241 - val_accuracy: 0.5086\n",
      "\n",
      "Epoch 00015: saving model to ../extra_training\\dense_test.ckpt\n",
      "Epoch 16/20\n",
      "175/175 [==============================] - 2s 9ms/step - loss: 1.9642 - accuracy: 0.5510 - val_loss: 2.2149 - val_accuracy: 0.4929\n",
      "\n",
      "Epoch 00016: saving model to ../extra_training\\dense_test.ckpt\n",
      "Epoch 17/20\n",
      "175/175 [==============================] - 2s 9ms/step - loss: 1.9289 - accuracy: 0.5637 - val_loss: 2.1959 - val_accuracy: 0.4929\n",
      "\n",
      "Epoch 00017: saving model to ../extra_training\\dense_test.ckpt\n",
      "Epoch 18/20\n",
      "175/175 [==============================] - 2s 9ms/step - loss: 1.8911 - accuracy: 0.5662 - val_loss: 2.1591 - val_accuracy: 0.5150\n",
      "\n",
      "Epoch 00018: saving model to ../extra_training\\dense_test.ckpt\n",
      "Epoch 19/20\n",
      "175/175 [==============================] - 1s 8ms/step - loss: 1.8556 - accuracy: 0.5753 - val_loss: 2.1404 - val_accuracy: 0.5164\n",
      "\n",
      "Epoch 00019: saving model to ../extra_training\\dense_test.ckpt\n",
      "Epoch 20/20\n",
      "175/175 [==============================] - 1s 9ms/step - loss: 1.8536 - accuracy: 0.5737 - val_loss: 2.1483 - val_accuracy: 0.4936\n",
      "\n",
      "Epoch 00020: saving model to ../extra_training\\dense_test.ckpt\n"
     ]
    }
   ],
   "source": [
    "# train network\n",
    "history = model.fit(inputs_train, labels_train, \n",
    "            validation_split=0.2,\n",
    "            epochs=20,\n",
    "            batch_size=32,\n",
    "            callbacks=[cp_callback])"
   ]
  },
  {
   "cell_type": "code",
   "execution_count": 12,
   "metadata": {},
   "outputs": [
    {
     "name": "stdout",
     "output_type": "stream",
     "text": [
      "94/94 [==============================] - 0s 3ms/step - loss: 2.1229 - accuracy: 0.5192\n",
      "Accuracy on test set is 0.5191730856895447\n"
     ]
    }
   ],
   "source": [
    "# evaluate on the test set\n",
    "test_loss, test_accuracy = model.evaluate(inputs_test, labels_test, verbose=1)\n",
    "print(\"Accuracy on test set is\", test_accuracy)"
   ]
  },
  {
   "cell_type": "code",
   "execution_count": 13,
   "metadata": {},
   "outputs": [
    {
     "data": {
      "image/png": "[encoded data removed]",
      "text/plain": [
       "<Figure size 864x360 with 2 Axes>"
      ]
     },
     "metadata": {
      "needs_background": "light"
     },
     "output_type": "display_data"
    }
   ],
   "source": [
    "# plot accuracy and error over the epochs\n",
    "_, axs = plt.subplots(2, figsize=(12, 5))\n",
    "\n",
    "# create the accuracy subplot\n",
    "axs[0].plot(history.history[\"accuracy\"], label=\"train accuracy\")\n",
    "axs[0].plot(history.history[\"val_accuracy\"], label=\"test accuracy\")\n",
    "axs[0].set_ylabel(\"Accuracy\")\n",
    "axs[0].legend(loc=\"lower right\")\n",
    "axs[0].set_title(\"Accuracy eval\")\n",
    "\n",
    "# create the error subplot\n",
    "axs[1].plot(history.history[\"loss\"], label=\"train loss\")\n",
    "axs[1].plot(history.history[\"val_loss\"], label=\"test loss\")\n",
    "axs[1].set_ylabel(\"Loss\")\n",
    "axs[1].set_xlabel(\"Epoch\")\n",
    "axs[1].legend(loc=\"upper right\")\n",
    "axs[1].set_title(\"Loss eval\")\n",
    "\n",
    "plt.show()"
   ]
  },
  {
   "cell_type": "code",
   "execution_count": 14,
   "metadata": {},
   "outputs": [
    {
     "name": "stdout",
     "output_type": "stream",
     "text": [
      "Expected index: 6, Predicted index: 6\n",
      "Predicted genre of the audio file is: metal\n"
     ]
    }
   ],
   "source": [
    "# test prediction\n",
    "SONG_NO = 102\n",
    "inputs_test[SONG_NO].shape\n",
    "reshaped = inputs_test[SONG_NO][np.newaxis, ...]\n",
    "\n",
    "prediction = model.predict(reshaped)\n",
    "predicted_index = np.argmax(prediction)\n",
    "print(\"Expected index: {}, Predicted index: {}\".format(labels_test[SONG_NO], predicted_index))\n",
    "print(\"Predicted genre of the audio file is:\", genres[predicted_index])"
   ]
  },
  {
   "cell_type": "code",
   "execution_count": 15,
   "metadata": {},
   "outputs": [],
   "source": [
    "# load a custom song\n",
    "file = \"../music_files/matt.wav\"\n",
    "data, sr = librosa.load(file) # data = sr * time (ex. 22050 * 30sec of data in data array)"
   ]
  },
  {
   "cell_type": "code",
   "execution_count": 16,
   "metadata": {},
   "outputs": [
    {
     "name": "stdout",
     "output_type": "stream",
     "text": [
      "694 seconds\n"
     ]
    }
   ],
   "source": [
    "# calculate the track duration in sec\n",
    "track_duration = math.floor(data.shape[0]/sr)\n",
    "print(track_duration, \"seconds\")"
   ]
  },
  {
   "cell_type": "code",
   "execution_count": 17,
   "metadata": {},
   "outputs": [],
   "source": [
    "# data for preprocessing the file (must be same as the trained files)\n",
    "NUM_SEGMENT = track_duration//3     # cuts the track to segments\n",
    "N_MFCC=13\n",
    "N_FFT=2048                          # no. of samples per STFT window (length of the windowed signal)\n",
    "HOP_LENGTH=512                      # number of audio samples between adjancent STFT columns\n",
    "NUM_SAMPLES_PER_SEGMENT = 66150"
   ]
  },
  {
   "cell_type": "code",
   "execution_count": 18,
   "metadata": {},
   "outputs": [],
   "source": [
    "# processing file for prediction\n",
    "prediction_mfcc = []\n",
    "for s in range(NUM_SEGMENT):\n",
    "    start_sample = NUM_SAMPLES_PER_SEGMENT * s\n",
    "    end_sample = start_sample + NUM_SAMPLES_PER_SEGMENT\n",
    "\n",
    "    mfcc = librosa.feature.mfcc(data[start_sample:end_sample], sr=sr, n_mfcc=N_MFCC, n_fft=N_FFT, hop_length=HOP_LENGTH)\n",
    "    mfcc = mfcc.T\n",
    "\n",
    "    # store MFCC for segment\n",
    "    prediction_mfcc.append(mfcc.tolist())\n",
    "prediction_mfcc = np.array(prediction_mfcc)"
   ]
  },
  {
   "cell_type": "code",
   "execution_count": 19,
   "metadata": {},
   "outputs": [
    {
     "data": {
      "image/png": "[encoded data removed]",
      "text/plain": [
       "<Figure size 432x288 with 1 Axes>"
      ]
     },
     "metadata": {
      "needs_background": "light"
     },
     "output_type": "display_data"
    }
   ],
   "source": [
    "prediction_mfcc[4].shape\n",
    "plt.plot(prediction_mfcc[4])\n",
    "plt.show()"
   ]
  },
  {
   "cell_type": "code",
   "execution_count": 20,
   "metadata": {},
   "outputs": [],
   "source": [
    "# dict for storing multiple genre values with count\n",
    "predicted_values = {}\n",
    "for i in range(prediction_mfcc.shape[0]):\n",
    "    prediction = model.predict(prediction_mfcc[i][np.newaxis, ..., np.newaxis])\n",
    "    predicted_index = np.argmax(prediction)\n",
    "    predicted_values[genres[predicted_index]] = predicted_values.get(genres[predicted_index], 0) + 1"
   ]
  },
  {
   "cell_type": "code",
   "execution_count": 21,
   "metadata": {},
   "outputs": [
    {
     "name": "stdout",
     "output_type": "stream",
     "text": [
      "Your song is predicted to be of a jazz genre.\n"
     ]
    }
   ],
   "source": [
    "# pulling the genre with max occurences in dict and printing the predicted value\n",
    "predicted_genre = max(predicted_values.items(), key=operator.itemgetter(1))[0]\n",
    "print(f\"Your song is predicted to be of a {predicted_genre} genre.\")"
   ]
  },
  {
   "cell_type": "code",
   "execution_count": 22,
   "metadata": {},
   "outputs": [
    {
     "name": "stdout",
     "output_type": "stream",
     "text": [
      "Predicted genre percentages:\n",
      "\thiphop: 0.43%\n",
      "\tjazz: 27.71%\n",
      "\tclassical: 18.18%\n",
      "\tblues: 2.6%\n",
      "\tcountry: 19.48%\n",
      "\treggae: 6.93%\n",
      "\trock: 1.3%\n",
      "\tdisco: 7.36%\n",
      "\tpop: 16.02%\n"
     ]
    }
   ],
   "source": [
    "# give % of all genres the song is predicted to be\n",
    "sum_all_values = sum(predicted_values.values())\n",
    "print(\"Predicted genre percentages:\")\n",
    "for k, v in predicted_values.items():\n",
    "    print(f\"\\t{k}: {round(v/sum_all_values*100, 2)}%\")"
   ]
  },
  {
   "cell_type": "code",
   "execution_count": 20,
   "metadata": {},
   "outputs": [],
   "source": [
    "# waveform\n",
    "# plt.figure(figsize=(12, 5))\n",
    "# librosa.display.waveplot(data, sr=sr)\n",
    "# plt.xlabel(\"Time\")\n",
    "# plt.ylabel(\"Amplitude\")\n",
    "# plt.show()"
   ]
  },
  {
   "cell_type": "code",
   "execution_count": 21,
   "metadata": {},
   "outputs": [],
   "source": [
    "# fft -> spectrum\n",
    "# fft = np.fft.fft(data)\n",
    "# magnitude = np.abs(fft)\n",
    "# frequency = np.linspace(0 , sr, len(magnitude))\n",
    "\n",
    "# left_frequency = frequency[:int(len(frequency)/2)]\n",
    "# left_magnitude = magnitude[:int(len(frequency)/2)]\n",
    "\n",
    "# plt.figure(figsize=(12, 5))\n",
    "# plt.plot(left_frequency, left_magnitude)\n",
    "# plt.xlabel(\"Frequency\")\n",
    "# plt.ylabel(\"Magnitude\")\n",
    "# plt.show()"
   ]
  },
  {
   "cell_type": "code",
   "execution_count": 22,
   "metadata": {},
   "outputs": [],
   "source": [
    "# stft -> spectogram          \n",
    "# stft = librosa.core.stft(data, hop_length=HOP_LENGTH, n_fft=N_FFT)\n",
    "# spectogram = np.abs(stft)\n",
    "\n",
    "# log_spectogram = librosa.amplitude_to_db(spectogram)\n",
    "\n",
    "# plt.figure(figsize=(12, 5))\n",
    "# librosa.display.specshow(log_spectogram, sr=sr, hop_length=HOP_LENGTH)\n",
    "# plt.xlabel(\"Time\")\n",
    "# plt.ylabel(\"Frequency\")\n",
    "# plt.colorbar()\n",
    "# plt.show()"
   ]
  },
  {
   "cell_type": "code",
   "execution_count": 23,
   "metadata": {},
   "outputs": [],
   "source": [
    "# stft.shape\n",
    "# plt.figure(figsize=(12, 5))\n",
    "# plt.plot(stft)\n",
    "# plt.show()"
   ]
  },
  {
   "cell_type": "code",
   "execution_count": 24,
   "metadata": {},
   "outputs": [],
   "source": [
    "# MFCC\n",
    "# MFCCs = librosa.feature.mfcc(data, n_fft=N_FFT, hop_length=HOP_LENGTH, n_mfcc=13)\n",
    "\n",
    "# plt.figure(figsize=(12, 5))\n",
    "# librosa.display.specshow(MFCCs, sr=sr, hop_length=HOP_LENGTH)\n",
    "# plt.xlabel(\"Time\")\n",
    "# plt.ylabel(\"MFCC\")\n",
    "# plt.colorbar()\n",
    "# plt.show()"
   ]
  },
  {
   "cell_type": "code",
   "execution_count": 25,
   "metadata": {},
   "outputs": [],
   "source": [
    "# Fourier spectogram\n",
    "# plt.figure(num=None, figsize=(20, 3))\n",
    "# plt.subplot(111)\n",
    "# plt.title('More common (Fourier) spectogram')\n",
    "# plt.specgram(data, Fs=sr)\n",
    "# plt.colorbar()\n",
    "# plt.show()"
   ]
  },
  {
   "cell_type": "code",
   "execution_count": null,
   "metadata": {},
   "outputs": [],
   "source": []
  }
 ],
 "metadata": {
  "interpreter": {
   "hash": "63fd5069d213b44bf678585dea6b12cceca9941eaf7f819626cde1f2670de90d"
  },
  "kernelspec": {
   "display_name": "Python 3.9.0 64-bit",
   "name": "python3"
  },
  "language_info": {
   "codemirror_mode": {
    "name": "ipython",
    "version": 3
   },
   "file_extension": ".py",
   "mimetype": "text/x-python",
   "name": "python",
   "nbconvert_exporter": "python",
   "pygments_lexer": "ipython3",
   "version": "3.9.0"
  },
  "orig_nbformat": 4
 },
 "nbformat": 4,
 "nbformat_minor": 2
}
