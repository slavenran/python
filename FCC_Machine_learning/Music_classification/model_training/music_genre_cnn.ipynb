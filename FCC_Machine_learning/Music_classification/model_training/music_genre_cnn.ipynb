{
 "cells": [
  {
   "cell_type": "code",
   "execution_count": 1,
   "metadata": {},
   "outputs": [],
   "source": [
    "import json\n",
    "import numpy as np\n",
    "from sklearn.model_selection import train_test_split\n",
    "import tensorflow.keras as keras\n",
    "import matplotlib.pyplot as plt\n",
    "import librosa, librosa.display\n",
    "from librosa.feature.spectral import mfcc\n",
    "import math\n",
    "import operator\n",
    "import tensorflow as tf\n",
    "from tensorflow.keras.models import save_model"
   ]
  },
  {
   "cell_type": "code",
   "execution_count": 2,
   "metadata": {},
   "outputs": [],
   "source": [
    "TEST_SIZE = 0.25\n",
    "VALIDATION_SIZE = 0.2\n",
    "DATA_PATH = \"../music_data/data.json\""
   ]
  },
  {
   "cell_type": "code",
   "execution_count": 3,
   "metadata": {},
   "outputs": [],
   "source": [
    "# load data\n",
    "with open(DATA_PATH, \"r\") as fp:\n",
    "    data = json.load(fp)\n",
    "\n",
    "    # convert lists to numpy arrays\n",
    "    x = np.array(data[\"mfcc\"])\n",
    "    y = np.array(data[\"labels\"])\n",
    "    genres = data[\"mapping\"]"
   ]
  },
  {
   "cell_type": "code",
   "execution_count": 4,
   "metadata": {},
   "outputs": [
    {
     "data": {
      "text/plain": [
       "(9996, 130, 13)"
      ]
     },
     "execution_count": 4,
     "metadata": {},
     "output_type": "execute_result"
    }
   ],
   "source": [
    "x.shape"
   ]
  },
  {
   "cell_type": "code",
   "execution_count": 5,
   "metadata": {},
   "outputs": [],
   "source": [
    "# create the train/test split\n",
    "x_train, x_test, y_train, y_test = train_test_split(x, y, test_size=TEST_SIZE)\n",
    "\n",
    "# CNN expects 3d array (for each sample) -> (130, 13, 1)\n",
    "x_train = x_train[..., np.newaxis]  # 4d array -> (num_samples, 130, 30, 1)\n",
    "x_test = x_test[..., np.newaxis]"
   ]
  },
  {
   "cell_type": "code",
   "execution_count": 6,
   "metadata": {},
   "outputs": [
    {
     "data": {
      "text/plain": [
       "(7497, 130, 13, 1)"
      ]
     },
     "execution_count": 6,
     "metadata": {},
     "output_type": "execute_result"
    }
   ],
   "source": [
    "x_train.shape"
   ]
  },
  {
   "cell_type": "code",
   "execution_count": 7,
   "metadata": {},
   "outputs": [],
   "source": [
    "x_shape = x_train.shape                             # (num_samples, 130, 13, 1)\n",
    "input_shape = (x_shape[1], x_shape[2], x_shape[3])"
   ]
  },
  {
   "cell_type": "code",
   "execution_count": 20,
   "metadata": {},
   "outputs": [],
   "source": [
    "# create model\n",
    "model = keras.Sequential()\n",
    "\n",
    "# 1st conv layer\n",
    "model.add(keras.layers.Conv2D(64, (3, 3), activation='relu', input_shape=input_shape))\n",
    "model.add(keras.layers.AvgPool2D((3, 3), strides=(2, 2), padding='same'))\n",
    "model.add(keras.layers.BatchNormalization())\n",
    "\n",
    "# 2nd conv layer\n",
    "model.add(keras.layers.Conv2D(32, (3, 3), activation='relu'))\n",
    "model.add(keras.layers.AvgPool2D((3, 3), strides=(2, 2), padding='same'))\n",
    "model.add(keras.layers.BatchNormalization())\n",
    "\n",
    "# 3rd conv layer\n",
    "model.add(keras.layers.Conv2D(32, (2, 2), activation='relu'))\n",
    "model.add(keras.layers.AvgPool2D((2, 2), strides=(2, 2), padding='same'))\n",
    "model.add(keras.layers.BatchNormalization())\n",
    "\n",
    "# flatten the output and feed it into dense layer\n",
    "model.add(keras.layers.Flatten())\n",
    "model.add(keras.layers.Dense(128, activation='relu'))\n",
    "model.add(keras.layers.Dropout(0.3))\n",
    "model.add(keras.layers.Dense(64, activation='relu'))\n",
    "model.add(keras.layers.Dropout(0.3))\n",
    "\n",
    "# output layer\n",
    "model.add(keras.layers.Dense(10, activation='softmax'))"
   ]
  },
  {
   "cell_type": "code",
   "execution_count": 21,
   "metadata": {},
   "outputs": [],
   "source": [
    "# compile the network\n",
    "optimizer = keras.optimizers.Adam(learning_rate=0.0001)\n",
    "model.compile(optimizer=optimizer,\n",
    "                loss=\"sparse_categorical_crossentropy\",\n",
    "                metrics=['accuracy'])"
   ]
  },
  {
   "cell_type": "code",
   "execution_count": 10,
   "metadata": {},
   "outputs": [],
   "source": [
    "# save trained model\n",
    "checkpoint_path = \"../models/weights/extra_training/cnn_genres.ckpt\"\n",
    "checkpoint_dir = os.path.dirname(checkpoint_path)\n",
    "\n",
    "# Create a callback that saves the model's weights\n",
    "cp_callback = tf.keras.callbacks.ModelCheckpoint(filepath=checkpoint_path,\n",
    "                                                 save_weights_only=True,\n",
    "                                                 verbose=1)"
   ]
  },
  {
   "cell_type": "code",
   "execution_count": 22,
   "metadata": {},
   "outputs": [
    {
     "data": {
      "text/plain": [
       "<tensorflow.python.training.tracking.util.CheckpointLoadStatus at 0x19c57ca9fd0>"
      ]
     },
     "execution_count": 22,
     "metadata": {},
     "output_type": "execute_result"
    }
   ],
   "source": [
    "# take the checkpoint\n",
    "# load_path = \"../models/weights/trained_75%_cnn/cnn_genres.ckpt\"\n",
    "# model.load_weights(load_path)"
   ]
  },
  {
   "cell_type": "code",
   "execution_count": 12,
   "metadata": {},
   "outputs": [
    {
     "name": "stdout",
     "output_type": "stream",
     "text": [
      "Epoch 1/30\n",
      "188/188 [==============================] - 7s 13ms/step - loss: 2.3309 - accuracy: 0.2071 - val_loss: 1.9105 - val_accuracy: 0.3507\n",
      "\n",
      "Epoch 00001: saving model to models/extra_training\\cnn_genres.ckpt\n",
      "Epoch 2/30\n",
      "188/188 [==============================] - 2s 10ms/step - loss: 1.9056 - accuracy: 0.3292 - val_loss: 1.5740 - val_accuracy: 0.4480\n",
      "\n",
      "Epoch 00002: saving model to models/extra_training\\cnn_genres.ckpt\n",
      "Epoch 3/30\n",
      "188/188 [==============================] - 2s 10ms/step - loss: 1.7108 - accuracy: 0.3935 - val_loss: 1.3908 - val_accuracy: 0.5207\n",
      "\n",
      "Epoch 00003: saving model to models/extra_training\\cnn_genres.ckpt\n",
      "Epoch 4/30\n",
      "188/188 [==============================] - 2s 10ms/step - loss: 1.5882 - accuracy: 0.4244 - val_loss: 1.2949 - val_accuracy: 0.5413\n",
      "\n",
      "Epoch 00004: saving model to models/extra_training\\cnn_genres.ckpt\n",
      "Epoch 5/30\n",
      "188/188 [==============================] - 2s 10ms/step - loss: 1.4853 - accuracy: 0.4727 - val_loss: 1.2214 - val_accuracy: 0.5600\n",
      "\n",
      "Epoch 00005: saving model to models/extra_training\\cnn_genres.ckpt\n",
      "Epoch 6/30\n",
      "188/188 [==============================] - 2s 11ms/step - loss: 1.4353 - accuracy: 0.4847 - val_loss: 1.1740 - val_accuracy: 0.5813\n",
      "\n",
      "Epoch 00006: saving model to models/extra_training\\cnn_genres.ckpt\n",
      "Epoch 7/30\n",
      "188/188 [==============================] - 2s 10ms/step - loss: 1.3715 - accuracy: 0.5144 - val_loss: 1.1258 - val_accuracy: 0.6000\n",
      "\n",
      "Epoch 00007: saving model to models/extra_training\\cnn_genres.ckpt\n",
      "Epoch 8/30\n",
      "188/188 [==============================] - 2s 10ms/step - loss: 1.3286 - accuracy: 0.5226 - val_loss: 1.0927 - val_accuracy: 0.6193\n",
      "\n",
      "Epoch 00008: saving model to models/extra_training\\cnn_genres.ckpt\n",
      "Epoch 9/30\n",
      "188/188 [==============================] - 2s 11ms/step - loss: 1.2941 - accuracy: 0.5423 - val_loss: 1.0964 - val_accuracy: 0.6027\n",
      "\n",
      "Epoch 00009: saving model to models/extra_training\\cnn_genres.ckpt\n",
      "Epoch 10/30\n",
      "188/188 [==============================] - 2s 10ms/step - loss: 1.2414 - accuracy: 0.5631 - val_loss: 1.0758 - val_accuracy: 0.6253\n",
      "\n",
      "Epoch 00010: saving model to models/extra_training\\cnn_genres.ckpt\n",
      "Epoch 11/30\n",
      "188/188 [==============================] - 2s 10ms/step - loss: 1.2162 - accuracy: 0.5681 - val_loss: 1.0428 - val_accuracy: 0.6240\n",
      "\n",
      "Epoch 00011: saving model to models/extra_training\\cnn_genres.ckpt\n",
      "Epoch 12/30\n",
      "188/188 [==============================] - 2s 10ms/step - loss: 1.1818 - accuracy: 0.5853 - val_loss: 0.9906 - val_accuracy: 0.6487\n",
      "\n",
      "Epoch 00012: saving model to models/extra_training\\cnn_genres.ckpt\n",
      "Epoch 13/30\n",
      "188/188 [==============================] - 2s 10ms/step - loss: 1.1466 - accuracy: 0.6030 - val_loss: 0.9980 - val_accuracy: 0.6487\n",
      "\n",
      "Epoch 00013: saving model to models/extra_training\\cnn_genres.ckpt\n",
      "Epoch 14/30\n",
      "188/188 [==============================] - 2s 10ms/step - loss: 1.1257 - accuracy: 0.6036 - val_loss: 0.9680 - val_accuracy: 0.6613\n",
      "\n",
      "Epoch 00014: saving model to models/extra_training\\cnn_genres.ckpt\n",
      "Epoch 15/30\n",
      "188/188 [==============================] - 2s 10ms/step - loss: 1.1158 - accuracy: 0.6140 - val_loss: 0.9375 - val_accuracy: 0.6787\n",
      "\n",
      "Epoch 00015: saving model to models/extra_training\\cnn_genres.ckpt\n",
      "Epoch 16/30\n",
      "188/188 [==============================] - 2s 10ms/step - loss: 1.0765 - accuracy: 0.6258 - val_loss: 0.9162 - val_accuracy: 0.6900\n",
      "\n",
      "Epoch 00016: saving model to models/extra_training\\cnn_genres.ckpt\n",
      "Epoch 17/30\n",
      "188/188 [==============================] - 2s 10ms/step - loss: 1.0616 - accuracy: 0.6215 - val_loss: 0.9242 - val_accuracy: 0.6867\n",
      "\n",
      "Epoch 00017: saving model to models/extra_training\\cnn_genres.ckpt\n",
      "Epoch 18/30\n",
      "188/188 [==============================] - 2s 10ms/step - loss: 1.0272 - accuracy: 0.6393 - val_loss: 0.9540 - val_accuracy: 0.6607\n",
      "\n",
      "Epoch 00018: saving model to models/extra_training\\cnn_genres.ckpt\n",
      "Epoch 19/30\n",
      "188/188 [==============================] - 2s 10ms/step - loss: 1.0106 - accuracy: 0.6478 - val_loss: 0.8871 - val_accuracy: 0.6880\n",
      "\n",
      "Epoch 00019: saving model to models/extra_training\\cnn_genres.ckpt\n",
      "Epoch 20/30\n",
      "188/188 [==============================] - 2s 10ms/step - loss: 0.9744 - accuracy: 0.6527 - val_loss: 0.8559 - val_accuracy: 0.7033\n",
      "\n",
      "Epoch 00020: saving model to models/extra_training\\cnn_genres.ckpt\n",
      "Epoch 21/30\n",
      "188/188 [==============================] - 2s 10ms/step - loss: 0.9679 - accuracy: 0.6633 - val_loss: 0.8350 - val_accuracy: 0.7200\n",
      "\n",
      "Epoch 00021: saving model to models/extra_training\\cnn_genres.ckpt\n",
      "Epoch 22/30\n",
      "188/188 [==============================] - 2s 10ms/step - loss: 0.9394 - accuracy: 0.6662 - val_loss: 0.8312 - val_accuracy: 0.7053\n",
      "\n",
      "Epoch 00022: saving model to models/extra_training\\cnn_genres.ckpt\n",
      "Epoch 23/30\n",
      "188/188 [==============================] - 2s 10ms/step - loss: 0.9350 - accuracy: 0.6773 - val_loss: 0.8190 - val_accuracy: 0.7047\n",
      "\n",
      "Epoch 00023: saving model to models/extra_training\\cnn_genres.ckpt\n",
      "Epoch 24/30\n",
      "188/188 [==============================] - 2s 10ms/step - loss: 0.9082 - accuracy: 0.6853 - val_loss: 0.8432 - val_accuracy: 0.7047\n",
      "\n",
      "Epoch 00024: saving model to models/extra_training\\cnn_genres.ckpt\n",
      "Epoch 25/30\n",
      "188/188 [==============================] - 2s 10ms/step - loss: 0.8841 - accuracy: 0.6940 - val_loss: 0.8246 - val_accuracy: 0.7040\n",
      "\n",
      "Epoch 00025: saving model to models/extra_training\\cnn_genres.ckpt\n",
      "Epoch 26/30\n",
      "188/188 [==============================] - 2s 10ms/step - loss: 0.8727 - accuracy: 0.6958 - val_loss: 0.7929 - val_accuracy: 0.7153\n",
      "\n",
      "Epoch 00026: saving model to models/extra_training\\cnn_genres.ckpt\n",
      "Epoch 27/30\n",
      "188/188 [==============================] - 2s 10ms/step - loss: 0.8558 - accuracy: 0.7032 - val_loss: 0.8288 - val_accuracy: 0.7080\n",
      "\n",
      "Epoch 00027: saving model to models/extra_training\\cnn_genres.ckpt\n",
      "Epoch 28/30\n",
      "188/188 [==============================] - 2s 10ms/step - loss: 0.8458 - accuracy: 0.7079 - val_loss: 0.7924 - val_accuracy: 0.7160\n",
      "\n",
      "Epoch 00028: saving model to models/extra_training\\cnn_genres.ckpt\n",
      "Epoch 29/30\n",
      "188/188 [==============================] - 2s 11ms/step - loss: 0.8332 - accuracy: 0.7110 - val_loss: 0.7604 - val_accuracy: 0.7320\n",
      "\n",
      "Epoch 00029: saving model to models/extra_training\\cnn_genres.ckpt\n",
      "Epoch 30/30\n",
      "188/188 [==============================] - 2s 10ms/step - loss: 0.8226 - accuracy: 0.7197 - val_loss: 0.7614 - val_accuracy: 0.7340\n",
      "\n",
      "Epoch 00030: saving model to models/extra_training\\cnn_genres.ckpt\n"
     ]
    }
   ],
   "source": [
    "# train the CNN\n",
    "history = model.fit(x_train,\n",
    "                    y_train,\n",
    "                    validation_split=0.2,\n",
    "                    batch_size=32,\n",
    "                    epochs=30,\n",
    "                    callbacks=[cp_callback])"
   ]
  },
  {
   "cell_type": "code",
   "execution_count": 23,
   "metadata": {},
   "outputs": [
    {
     "name": "stdout",
     "output_type": "stream",
     "text": [
      "79/79 [==============================] - 7s 25ms/step - loss: 0.5292 - accuracy: 0.8227\n",
      "Accuracy on test set is 0.8227291107177734\n"
     ]
    }
   ],
   "source": [
    "# evaluate the CNN on the test set\n",
    "test_loss, test_accuracy = model.evaluate(x_test, y_test, verbose=1)\n",
    "print(\"Accuracy on test set is\", test_accuracy)"
   ]
  },
  {
   "cell_type": "code",
   "execution_count": 25,
   "metadata": {},
   "outputs": [
    {
     "name": "stdout",
     "output_type": "stream",
     "text": [
      "INFO:tensorflow:Assets written to: ../models/full_model_high_accuracy\\assets\n"
     ]
    }
   ],
   "source": [
    "# save the whole model for reusable predicting\n",
    "# filepath = '../models/full_model_high_accuracy'\n",
    "# save_model(model, filepath)"
   ]
  },
  {
   "cell_type": "code",
   "execution_count": 26,
   "metadata": {},
   "outputs": [
    {
     "ename": "NameError",
     "evalue": "name 'history' is not defined",
     "output_type": "error",
     "traceback": [
      "\u001b[1;31m---------------------------------------------------------------------------\u001b[0m",
      "\u001b[1;31mNameError\u001b[0m                                 Traceback (most recent call last)",
      "\u001b[1;32m<ipython-input-26-7a7b1de78adc>\u001b[0m in \u001b[0;36m<module>\u001b[1;34m\u001b[0m\n\u001b[0;32m      3\u001b[0m \u001b[1;33m\u001b[0m\u001b[0m\n\u001b[0;32m      4\u001b[0m \u001b[1;31m# create the accuracy subplot\u001b[0m\u001b[1;33m\u001b[0m\u001b[1;33m\u001b[0m\u001b[1;33m\u001b[0m\u001b[0m\n\u001b[1;32m----> 5\u001b[1;33m \u001b[0maxs\u001b[0m\u001b[1;33m[\u001b[0m\u001b[1;36m0\u001b[0m\u001b[1;33m]\u001b[0m\u001b[1;33m.\u001b[0m\u001b[0mplot\u001b[0m\u001b[1;33m(\u001b[0m\u001b[0mhistory\u001b[0m\u001b[1;33m.\u001b[0m\u001b[0mhistory\u001b[0m\u001b[1;33m[\u001b[0m\u001b[1;34m\"accuracy\"\u001b[0m\u001b[1;33m]\u001b[0m\u001b[1;33m,\u001b[0m \u001b[0mlabel\u001b[0m\u001b[1;33m=\u001b[0m\u001b[1;34m\"train accuracy\"\u001b[0m\u001b[1;33m)\u001b[0m\u001b[1;33m\u001b[0m\u001b[1;33m\u001b[0m\u001b[0m\n\u001b[0m\u001b[0;32m      6\u001b[0m \u001b[0maxs\u001b[0m\u001b[1;33m[\u001b[0m\u001b[1;36m0\u001b[0m\u001b[1;33m]\u001b[0m\u001b[1;33m.\u001b[0m\u001b[0mplot\u001b[0m\u001b[1;33m(\u001b[0m\u001b[0mhistory\u001b[0m\u001b[1;33m.\u001b[0m\u001b[0mhistory\u001b[0m\u001b[1;33m[\u001b[0m\u001b[1;34m\"val_accuracy\"\u001b[0m\u001b[1;33m]\u001b[0m\u001b[1;33m,\u001b[0m \u001b[0mlabel\u001b[0m\u001b[1;33m=\u001b[0m\u001b[1;34m\"test accuracy\"\u001b[0m\u001b[1;33m)\u001b[0m\u001b[1;33m\u001b[0m\u001b[1;33m\u001b[0m\u001b[0m\n\u001b[0;32m      7\u001b[0m \u001b[0maxs\u001b[0m\u001b[1;33m[\u001b[0m\u001b[1;36m0\u001b[0m\u001b[1;33m]\u001b[0m\u001b[1;33m.\u001b[0m\u001b[0mset_ylabel\u001b[0m\u001b[1;33m(\u001b[0m\u001b[1;34m\"Accuracy\"\u001b[0m\u001b[1;33m)\u001b[0m\u001b[1;33m\u001b[0m\u001b[1;33m\u001b[0m\u001b[0m\n",
      "\u001b[1;31mNameError\u001b[0m: name 'history' is not defined"
     ]
    },
    {
     "data": {
      "image/png": "[encoded data removed]",
      "text/plain": [
       "<Figure size 864x360 with 2 Axes>"
      ]
     },
     "metadata": {
      "needs_background": "light"
     },
     "output_type": "display_data"
    }
   ],
   "source": [
    "# plot accuracy and error over the epochs\n",
    "_, axs = plt.subplots(2, figsize=(12, 5))\n",
    "\n",
    "# create the accuracy subplot\n",
    "axs[0].plot(history.history[\"accuracy\"], label=\"train accuracy\")\n",
    "axs[0].plot(history.history[\"val_accuracy\"], label=\"test accuracy\")\n",
    "axs[0].set_ylabel(\"Accuracy\")\n",
    "axs[0].set_xlabel(\"Epoch\")\n",
    "axs[0].legend(loc=\"lower right\")\n",
    "axs[0].set_title(\"Accuracy eval\")\n",
    "\n",
    "# create the error subplot\n",
    "axs[1].plot(history.history[\"loss\"], label=\"train loss\")\n",
    "axs[1].plot(history.history[\"val_loss\"], label=\"test loss\")\n",
    "axs[1].set_ylabel(\"Loss\")\n",
    "axs[1].set_xlabel(\"Epoch\")\n",
    "axs[1].legend(loc=\"upper right\")\n",
    "axs[1].set_title(\"Loss eval\")\n",
    "\n",
    "plt.tight_layout()\n",
    "plt.show()"
   ]
  },
  {
   "cell_type": "code",
   "execution_count": 27,
   "metadata": {},
   "outputs": [
    {
     "name": "stdout",
     "output_type": "stream",
     "text": [
      "(130, 13, 1)\n",
      "(1, 130, 13, 1)\n",
      "Expected index: 1, Predicted index: 1\n",
      "Predicted genre of the audio file is: classical\n"
     ]
    }
   ],
   "source": [
    "# pick a song from premade data and predict it\n",
    "SONG_NO = 256\n",
    "print(x_test[SONG_NO].shape)\n",
    "x_prediction = x_test[SONG_NO][np.newaxis, ...]\n",
    "print(x_prediction.shape)\n",
    "\n",
    "prediction = model.predict(x_prediction)\n",
    "predicted_index = np.argmax(prediction)\n",
    "print(\"Expected index: {}, Predicted index: {}\".format(y_test[SONG_NO], predicted_index))\n",
    "print(\"Predicted genre of the audio file is:\", genres[predicted_index])"
   ]
  },
  {
   "cell_type": "code",
   "execution_count": 28,
   "metadata": {},
   "outputs": [],
   "source": [
    "# load a custom song\n",
    "file = \"../music_files/nile.wav\"\n",
    "data, sr = librosa.load(file) # data = sr * time (ex. 22050 * 30sec of data in data array)"
   ]
  },
  {
   "cell_type": "code",
   "execution_count": 29,
   "metadata": {},
   "outputs": [
    {
     "name": "stdout",
     "output_type": "stream",
     "text": [
      "337 seconds\n"
     ]
    }
   ],
   "source": [
    "# calculate the track duration in sec\n",
    "track_duration = math.floor(data.shape[0]/sr)\n",
    "print(track_duration, \"seconds\")"
   ]
  },
  {
   "cell_type": "code",
   "execution_count": 30,
   "metadata": {},
   "outputs": [],
   "source": [
    "# data for preprocessing the file (must be same as the trained files)\n",
    "NUM_SEGMENT = track_duration//3     # cuts the track to segments of 3 seconds\n",
    "N_MFCC=13\n",
    "N_FFT=2048                          # no. of samples per STFT window (length of the windowed signal)\n",
    "HOP_LENGTH=512                      # number of audio samples between adjancent STFT columns\n",
    "NUM_SAMPLES_PER_SEGMENT = 66150"
   ]
  },
  {
   "cell_type": "code",
   "execution_count": 31,
   "metadata": {},
   "outputs": [
    {
     "data": {
      "text/plain": [
       "(7442433,)"
      ]
     },
     "execution_count": 31,
     "metadata": {},
     "output_type": "execute_result"
    }
   ],
   "source": [
    "data.shape"
   ]
  },
  {
   "cell_type": "code",
   "execution_count": 32,
   "metadata": {},
   "outputs": [],
   "source": [
    "# processing file for prediction\n",
    "prediction_mfcc = []\n",
    "for s in range(NUM_SEGMENT):\n",
    "    start_sample = NUM_SAMPLES_PER_SEGMENT * s\n",
    "    end_sample = start_sample + NUM_SAMPLES_PER_SEGMENT\n",
    "\n",
    "    mfcc = librosa.feature.mfcc(data[start_sample:end_sample], sr=sr, n_mfcc=N_MFCC, n_fft=N_FFT, hop_length=HOP_LENGTH)\n",
    "    mfcc = mfcc.T\n",
    "\n",
    "    # store MFCC for segment\n",
    "    prediction_mfcc.append(mfcc.tolist())\n",
    "prediction_mfcc = np.array(prediction_mfcc)"
   ]
  },
  {
   "cell_type": "code",
   "execution_count": 33,
   "metadata": {
    "tags": []
   },
   "outputs": [
    {
     "name": "stdout",
     "output_type": "stream",
     "text": [
      "(112, 130, 13)\n"
     ]
    }
   ],
   "source": [
    "print(prediction_mfcc.shape)"
   ]
  },
  {
   "cell_type": "code",
   "execution_count": 34,
   "metadata": {},
   "outputs": [
    {
     "data": {
      "text/plain": [
       "(1, 130, 13, 1)"
      ]
     },
     "execution_count": 34,
     "metadata": {},
     "output_type": "execute_result"
    }
   ],
   "source": [
    "prediction_mfcc[0][np.newaxis, ..., np.newaxis].shape"
   ]
  },
  {
   "cell_type": "code",
   "execution_count": 24,
   "metadata": {},
   "outputs": [
    {
     "data": {
      "image/png": "[encoded data removed]",
      "text/plain": [
       "<Figure size 432x288 with 1 Axes>"
      ]
     },
     "metadata": {
      "needs_background": "light"
     },
     "output_type": "display_data"
    }
   ],
   "source": [
    "prediction_mfcc[4].shape\n",
    "plt.plot(prediction_mfcc[4])\n",
    "plt.show()"
   ]
  },
  {
   "cell_type": "code",
   "execution_count": 35,
   "metadata": {},
   "outputs": [
    {
     "name": "stdout",
     "output_type": "stream",
     "text": [
      "WARNING:tensorflow:Unresolved object in checkpoint: (root).optimizer.iter\n",
      "WARNING:tensorflow:Unresolved object in checkpoint: (root).optimizer.beta_1\n",
      "WARNING:tensorflow:Unresolved object in checkpoint: (root).optimizer.beta_2\n",
      "WARNING:tensorflow:Unresolved object in checkpoint: (root).optimizer.decay\n",
      "WARNING:tensorflow:Unresolved object in checkpoint: (root).optimizer.learning_rate\n",
      "WARNING:tensorflow:A checkpoint was restored (e.g. tf.train.Checkpoint.restore or tf.keras.Model.load_weights) but not all checkpointed values were used. See above for specific issues. Use expect_partial() on the load status object, e.g. tf.train.Checkpoint.restore(...).expect_partial(), to silence these warnings, or use assert_consumed() to make the check explicit. See https://www.tensorflow.org/guide/checkpoint#loading_mechanics for details.\n"
     ]
    }
   ],
   "source": [
    "# dict for storing multiple genre values with count\n",
    "predicted_values = {}\n",
    "for i in range(prediction_mfcc.shape[0]):\n",
    "    prediction = model.predict(prediction_mfcc[i][np.newaxis, ..., np.newaxis])\n",
    "    predicted_index = np.argmax(prediction)\n",
    "    predicted_values[genres[predicted_index]] = predicted_values.get(genres[predicted_index], 0) + 1"
   ]
  },
  {
   "cell_type": "code",
   "execution_count": 36,
   "metadata": {},
   "outputs": [
    {
     "name": "stdout",
     "output_type": "stream",
     "text": [
      "Your song is predicted to be of a metal genre.\n"
     ]
    }
   ],
   "source": [
    "# pulling the genre with max occurences in dict and printing the predicted value\n",
    "predicted_genre = max(predicted_values.items(), key=operator.itemgetter(1))[0]\n",
    "print(f\"Your song is predicted to be of a {predicted_genre} genre.\")"
   ]
  },
  {
   "cell_type": "code",
   "execution_count": 37,
   "metadata": {},
   "outputs": [
    {
     "name": "stdout",
     "output_type": "stream",
     "text": [
      "Predicted genre percentages:\n",
      "\tmetal: 79.46%\n",
      "\thiphop: 10.71%\n",
      "\tpop: 2.68%\n",
      "\trock: 6.25%\n",
      "\tclassical: 0.89%\n"
     ]
    }
   ],
   "source": [
    "# give % of all genres the song is predicted to be\n",
    "sum_all_values = sum(predicted_values.values())\n",
    "print(\"Predicted genre percentages:\")\n",
    "for k, v in predicted_values.items():\n",
    "    print(f\"\\t{k}: {round(v/sum_all_values*100, 2)}%\")"
   ]
  },
  {
   "cell_type": "code",
   "execution_count": 28,
   "metadata": {},
   "outputs": [
    {
     "name": "stdout",
     "output_type": "stream",
     "text": [
      "{'metal': 72, 'hiphop': 34, 'pop': 5, 'classical': 1}\n"
     ]
    }
   ],
   "source": [
    "print(predicted_values)"
   ]
  },
  {
   "cell_type": "code",
   "execution_count": 29,
   "metadata": {},
   "outputs": [],
   "source": [
    "# # waveform\n",
    "# plt.figure(figsize=(12, 5))\n",
    "# librosa.display.waveplot(data, sr=sr)\n",
    "# plt.xlabel(\"Time\")\n",
    "# plt.ylabel(\"Amplitude\")\n",
    "# plt.show()"
   ]
  },
  {
   "cell_type": "code",
   "execution_count": 30,
   "metadata": {},
   "outputs": [],
   "source": [
    "# # fft -> spectrum\n",
    "# fft = np.fft.fft(data)\n",
    "# magnitude = np.abs(fft)\n",
    "# frequency = np.linspace(0 , sr, len(magnitude))\n",
    "\n",
    "# left_frequency = frequency[:int(len(frequency)/2)]\n",
    "# left_magnitude = magnitude[:int(len(frequency)/2)]\n",
    "\n",
    "# plt.figure(figsize=(12, 5))\n",
    "# plt.plot(left_frequency, left_magnitude)\n",
    "# plt.xlabel(\"Frequency\")\n",
    "# plt.ylabel(\"Magnitude\")\n",
    "# plt.show()"
   ]
  },
  {
   "cell_type": "code",
   "execution_count": 31,
   "metadata": {},
   "outputs": [],
   "source": [
    "# # stft -> spectogram          \n",
    "# stft = librosa.core.stft(data, hop_length=HOP_LENGTH, n_fft=N_FFT)\n",
    "# spectogram = np.abs(stft)\n",
    "\n",
    "# log_spectogram = librosa.amplitude_to_db(spectogram)\n",
    "\n",
    "# plt.figure(figsize=(12, 5))\n",
    "# librosa.display.specshow(log_spectogram, sr=sr, hop_length=HOP_LENGTH)\n",
    "# plt.xlabel(\"Time\")\n",
    "# plt.ylabel(\"Frequency\")\n",
    "# plt.colorbar()\n",
    "# plt.show()"
   ]
  },
  {
   "cell_type": "code",
   "execution_count": 32,
   "metadata": {},
   "outputs": [],
   "source": [
    "# # MFCC\n",
    "# MFCCs = librosa.feature.mfcc(data, n_fft=N_FFT, hop_length=HOP_LENGTH, n_mfcc=13)\n",
    "\n",
    "# plt.figure(figsize=(12, 5))\n",
    "# librosa.display.specshow(MFCCs, sr=sr, hop_length=HOP_LENGTH)\n",
    "# plt.xlabel(\"Time\")\n",
    "# plt.ylabel(\"MFCC\")\n",
    "# plt.colorbar()\n",
    "# plt.show()"
   ]
  },
  {
   "cell_type": "code",
   "execution_count": 33,
   "metadata": {},
   "outputs": [],
   "source": [
    "# # Fourier spectogram\n",
    "# plt.figure(num=None, figsize=(20, 3))\n",
    "# plt.subplot(111)\n",
    "# plt.title('More common (Fourier) spectogram')\n",
    "# plt.specgram(data, Fs=sr)\n",
    "# plt.colorbar()\n",
    "# plt.show()"
   ]
  },
  {
   "cell_type": "code",
   "execution_count": null,
   "metadata": {},
   "outputs": [],
   "source": []
  }
 ],
 "metadata": {
  "interpreter": {
   "hash": "63fd5069d213b44bf678585dea6b12cceca9941eaf7f819626cde1f2670de90d"
  },
  "kernelspec": {
   "display_name": "Python 3.9.0 64-bit",
   "name": "python3"
  },
  "language_info": {
   "codemirror_mode": {
    "name": "ipython",
    "version": 3
   },
   "file_extension": ".py",
   "mimetype": "text/x-python",
   "name": "python",
   "nbconvert_exporter": "python",
   "pygments_lexer": "ipython3",
   "version": "3.9.0"
  },
  "orig_nbformat": 4
 },
 "nbformat": 4,
 "nbformat_minor": 2
}
