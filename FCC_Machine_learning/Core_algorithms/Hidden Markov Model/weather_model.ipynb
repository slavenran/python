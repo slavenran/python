{
 "metadata": {
  "language_info": {
   "codemirror_mode": {
    "name": "ipython",
    "version": 3
   },
   "file_extension": ".py",
   "mimetype": "text/x-python",
   "name": "python",
   "nbconvert_exporter": "python",
   "pygments_lexer": "ipython3",
   "version": "3.9.0"
  },
  "orig_nbformat": 4,
  "kernelspec": {
   "name": "python3",
   "display_name": "Python 3.9.0 64-bit"
  },
  "interpreter": {
   "hash": "63fd5069d213b44bf678585dea6b12cceca9941eaf7f819626cde1f2670de90d"
  }
 },
 "nbformat": 4,
 "nbformat_minor": 2,
 "cells": [
  {
   "cell_type": "code",
   "execution_count": 6,
   "metadata": {},
   "outputs": [],
   "source": [
    "# 1. Cold days are encoded by a 0 and hot days are encoded by a 1.\n",
    "# 2. The first day in our sequence has an 80% chance of being cold.\n",
    "# 3. A cold day has a 30% chance of being followed by a hot day\n",
    "# 4. A hot day has a 20% chance of being followed by a cold day.\n",
    "# 5. On each day the temperature is normally distributed with mean and standard deviation 0 and 5 on a cold day and mean and standard deviation     15 and 10 on a hot day."
   ]
  },
  {
   "cell_type": "code",
   "execution_count": 7,
   "metadata": {},
   "outputs": [],
   "source": [
    "import tensorflow_probability as tfp\n",
    "import tensorflow as tf"
   ]
  },
  {
   "cell_type": "code",
   "execution_count": 8,
   "metadata": {},
   "outputs": [],
   "source": [
    "tfd = tfp.distributions     # shortcut for later\n",
    "initial_distribution = tfd.Categorical(probs=[0.8, 0.2])     # point 2.\n",
    "transitional_distribution = tfd.Categorical(probs=[[0.7, 0.3], [0.2, 0.8]])     # points 3. and 4.\n",
    "observational_distribution = tfd.Normal(loc=[0., 15.], scale=[5., 10.])     # point 5.; numbers have dots because they need to be float values\n",
    "\n",
    "# the loc argument represents the mean and the scale is the standard deviation"
   ]
  },
  {
   "cell_type": "code",
   "execution_count": 9,
   "metadata": {},
   "outputs": [],
   "source": [
    "model = tfd.HiddenMarkovModel(\n",
    "    initial_distribution=initial_distribution,\n",
    "    transition_distribution=transitional_distribution,\n",
    "    observation_distribution=observational_distribution,\n",
    "    num_steps=7)"
   ]
  },
  {
   "cell_type": "code",
   "execution_count": 10,
   "metadata": {},
   "outputs": [
    {
     "output_type": "stream",
     "name": "stdout",
     "text": [
      "[3.        6.        7.4999995 8.249999  8.625001  8.812501  8.90625  ]\n"
     ]
    }
   ],
   "source": [
    "mean = model.mean()     # partially defined tensor, calculates the probabilities\n",
    "\n",
    "print(mean.numpy())"
   ]
  },
  {
   "cell_type": "code",
   "execution_count": null,
   "metadata": {},
   "outputs": [],
   "source": []
  }
 ]
}