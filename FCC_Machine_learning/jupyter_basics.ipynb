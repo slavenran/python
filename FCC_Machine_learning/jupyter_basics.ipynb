{
 "metadata": {
  "language_info": {
   "codemirror_mode": {
    "name": "ipython",
    "version": 3
   },
   "file_extension": ".py",
   "mimetype": "text/x-python",
   "name": "python",
   "nbconvert_exporter": "python",
   "pygments_lexer": "ipython3",
   "version": "3.9.0"
  },
  "orig_nbformat": 4,
  "kernelspec": {
   "name": "python3",
   "display_name": "Python 3.9.0 64-bit"
  },
  "interpreter": {
   "hash": "63fd5069d213b44bf678585dea6b12cceca9941eaf7f819626cde1f2670de90d"
  }
 },
 "nbformat": 4,
 "nbformat_minor": 2,
 "cells": [
  {
   "cell_type": "code",
   "execution_count": 2,
   "metadata": {},
   "outputs": [],
   "source": [
    "import tensorflow as tf"
   ]
  },
  {
   "cell_type": "code",
   "execution_count": 3,
   "metadata": {},
   "outputs": [],
   "source": [
    "lvl1_tensor = tf.Variable([323, 2321, 334], tf.int16)"
   ]
  },
  {
   "cell_type": "code",
   "execution_count": 4,
   "metadata": {},
   "outputs": [],
   "source": [
    "lvl2_tensor = tf.Variable([[23.43, 34.23], [12.2, 1.56], [23.9, 43.5]], tf.float64)"
   ]
  },
  {
   "cell_type": "code",
   "execution_count": 5,
   "metadata": {},
   "outputs": [
    {
     "output_type": "execute_result",
     "data": {
      "text/plain": [
       "<tf.Tensor: shape=(), dtype=int32, numpy=1>"
      ]
     },
     "metadata": {},
     "execution_count": 5
    }
   ],
   "source": [
    "tf.rank(lvl1_tensor)"
   ]
  },
  {
   "cell_type": "code",
   "execution_count": 7,
   "metadata": {},
   "outputs": [
    {
     "output_type": "execute_result",
     "data": {
      "text/plain": [
       "TensorShape([3, 2])"
      ]
     },
     "metadata": {},
     "execution_count": 7
    }
   ],
   "source": [
    "lvl2_tensor.shape"
   ]
  },
  {
   "cell_type": "code",
   "execution_count": 33,
   "metadata": {},
   "outputs": [],
   "source": [
    "tensor1 = tf.ones([4, 2, 1])\n",
    "tensor2 = tf.reshape(tensor1, [2, 2, 2])\n",
    "tensor3 = tf.reshape(tensor2, [2, -1])"
   ]
  },
  {
   "cell_type": "code",
   "execution_count": 34,
   "metadata": {},
   "outputs": [
    {
     "output_type": "stream",
     "name": "stdout",
     "text": [
      "tf.Tensor(\n[[[1.]\n  [1.]]\n\n [[1.]\n  [1.]]\n\n [[1.]\n  [1.]]\n\n [[1.]\n  [1.]]], shape=(4, 2, 1), dtype=float32)\ntf.Tensor(\n[[[1. 1.]\n  [1. 1.]]\n\n [[1. 1.]\n  [1. 1.]]], shape=(2, 2, 2), dtype=float32)\ntf.Tensor(\n[[1. 1. 1. 1.]\n [1. 1. 1. 1.]], shape=(2, 4), dtype=float32)\n"
     ]
    }
   ],
   "source": [
    "print(tensor1)\n",
    "print(tensor2)\n",
    "print(tensor3)"
   ]
  },
  {
   "cell_type": "code",
   "execution_count": null,
   "metadata": {},
   "outputs": [],
   "source": []
  }
 ]
}